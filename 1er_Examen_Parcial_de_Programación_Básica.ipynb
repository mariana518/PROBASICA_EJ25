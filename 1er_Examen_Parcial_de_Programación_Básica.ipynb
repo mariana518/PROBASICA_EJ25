{
  "nbformat": 4,
  "nbformat_minor": 0,
  "metadata": {
    "colab": {
      "provenance": [],
      "include_colab_link": true
    },
    "kernelspec": {
      "name": "python3",
      "display_name": "Python 3"
    },
    "language_info": {
      "name": "python"
    }
  },
  "cells": [
    {
      "cell_type": "markdown",
      "metadata": {
        "id": "view-in-github",
        "colab_type": "text"
      },
      "source": [
        "<a href=\"https://colab.research.google.com/github/mariana518/PROBASICA_EJ25/blob/main/1er_Examen_Parcial_de_Programaci%C3%B3n_B%C3%A1sica.ipynb\" target=\"_parent\"><img src=\"https://colab.research.google.com/assets/colab-badge.svg\" alt=\"Open In Colab\"/></a>"
      ]
    },
    {
      "cell_type": "markdown",
      "source": [
        "# 1er Examen Parcial Practico de Programación Básica - Enero - Junio 2025\n",
        "\n",
        "## Antes de empezar, ejecuta el comando para instalar la librerías necesarias para el examen\n"
      ],
      "metadata": {
        "id": "cvzhNApfifjz"
      }
    },
    {
      "cell_type": "code",
      "source": [
        "!wget -q https://raw.githubusercontent.com/ProfeLuisFCFM/RecursosAcademicos/main/ProgramacionBasica/ProBas1erParcial.py -O ProBas1erParcial.py\n",
        "from ProBas1erParcial import *"
      ],
      "metadata": {
        "id": "T3mIO4-GjlQG",
        "outputId": "4856205b-4072-4159-cddd-341119f89798",
        "colab": {
          "base_uri": "https://localhost:8080/"
        }
      },
      "execution_count": 1,
      "outputs": [
        {
          "output_type": "stream",
          "name": "stdout",
          "text": [
            "Instalando qrcode[pil]...\n",
            "qrcode[pil] instalada correctamente ✅\n",
            "✅ Verificación de requisitos completada.\n"
          ]
        }
      ]
    },
    {
      "cell_type": "markdown",
      "source": [
        "## Datos del estudiante"
      ],
      "metadata": {
        "id": "Bbbt1j7WkBBQ"
      }
    },
    {
      "cell_type": "code",
      "source": [
        "# Encabezado del examen\n",
        "print(\"Primer Examen Parcial de Programación Básica - Practica\")\n",
        "Nombre = input(\"Nombre: \")\n",
        "Matricula = input(\"Matrícula: \")\n",
        "Grupo = input(\"Grupo: \")"
      ],
      "metadata": {
        "id": "KSnw6IGDkDIU",
        "outputId": "01388faa-7972-491d-c515-f6f686b319a3",
        "colab": {
          "base_uri": "https://localhost:8080/"
        }
      },
      "execution_count": 2,
      "outputs": [
        {
          "name": "stdout",
          "output_type": "stream",
          "text": [
            "Primer Examen Parcial de Programación Básica - Practica\n",
            "Nombre: Mariana García Llovera\n",
            "Matrícula: 2169421\n",
            "Grupo: 077\n"
          ]
        }
      ]
    },
    {
      "cell_type": "markdown",
      "source": [
        "Instrucciones: Resuelve cada problema en la celda correspondiente.\n",
        "# Problema 1: Escribe una función que invierta una cadena"
      ],
      "metadata": {
        "id": "3ijMYqBPi8ey"
      }
    },
    {
      "cell_type": "code",
      "source": [
        "def invertir_cadena(cadena):\n",
        "  return cadena[::-1]\n",
        "\n"
      ],
      "metadata": {
        "id": "IEUFXl_RjBXM"
      },
      "execution_count": 5,
      "outputs": []
    },
    {
      "cell_type": "markdown",
      "source": [
        "¿No tienes idea de como hacerlo? Bien, puedes acceder a una pista!"
      ],
      "metadata": {
        "id": "EE4QsJP91qQG"
      }
    },
    {
      "cell_type": "code",
      "source": [
        "p1.hint()"
      ],
      "metadata": {
        "id": "WkeYGXuw1v7A"
      },
      "execution_count": null,
      "outputs": []
    },
    {
      "cell_type": "markdown",
      "source": [
        "Ahora que terminaste el codigo, probemos si hace lo que debería la función:"
      ],
      "metadata": {
        "id": "eQcn-jbQjUQL"
      }
    },
    {
      "cell_type": "code",
      "source": [
        "p1.check()"
      ],
      "metadata": {
        "id": "oYoTJB6BZUwI",
        "outputId": "bb70c0cd-61eb-4b78-e45d-b30cd5689a3a",
        "colab": {
          "base_uri": "https://localhost:8080/"
        }
      },
      "execution_count": 97,
      "outputs": [
        {
          "output_type": "stream",
          "name": "stdout",
          "text": [
            "✅ Función correcta.\n"
          ]
        }
      ]
    },
    {
      "cell_type": "markdown",
      "source": [
        "# Problema 2: Escribe una función que determine si un número es primo."
      ],
      "metadata": {
        "id": "C2GTwRe-D5T2"
      }
    },
    {
      "cell_type": "code",
      "source": [
        "def es_primo(numerof):\n",
        "    if numerof <= 1:\n",
        "        return False\n",
        "    for i in range(2, int(numerof**0.5) + 1):\n",
        "        if numerof % i == 0:\n",
        "            return False\n",
        "    return True\n",
        "\n"
      ],
      "metadata": {
        "id": "UlbKBA2vEH_j"
      },
      "execution_count": 17,
      "outputs": []
    },
    {
      "cell_type": "markdown",
      "source": [
        "¿No tienes idea de como hacerlo? Bien, puedes acceder a una pista!"
      ],
      "metadata": {
        "id": "mga5kG9WIpXl"
      }
    },
    {
      "cell_type": "code",
      "source": [
        "p2.hint()"
      ],
      "metadata": {
        "id": "cXMSOPg8IqEn",
        "outputId": "b0bb9831-6cf2-4254-b0d5-0b746d5c9f25",
        "colab": {
          "base_uri": "https://localhost:8080/"
        }
      },
      "execution_count": 8,
      "outputs": [
        {
          "output_type": "stream",
          "name": "stdout",
          "text": [
            "Debes generar una función llamada 'es_primo', que reciba una variable int() y despues debes retornar True si es primo o False si no lo es. \n",
            " Por ejemplo: 7 es primo \n",
            "             9 no es primo\n"
          ]
        }
      ]
    },
    {
      "cell_type": "markdown",
      "source": [
        "Ahora que terminaste el codigo, probemos si hace lo que debería la función:"
      ],
      "metadata": {
        "id": "ffHlcGJZIvtu"
      }
    },
    {
      "cell_type": "code",
      "source": [
        "p2.check()"
      ],
      "metadata": {
        "id": "gFzeuXqWIwjT",
        "outputId": "5390d038-484c-4fb6-fc83-c22f7eee15f0",
        "colab": {
          "base_uri": "https://localhost:8080/"
        }
      },
      "execution_count": 18,
      "outputs": [
        {
          "output_type": "stream",
          "name": "stdout",
          "text": [
            "✅ Función correcta.\n"
          ]
        }
      ]
    },
    {
      "cell_type": "markdown",
      "source": [
        "# Problema 3: Escribe una función que calcule el factorial de un número."
      ],
      "metadata": {
        "id": "l1USP9qiJYUJ"
      }
    },
    {
      "cell_type": "code",
      "source": [
        "def factorial(n):\n",
        "    if n<0:\n",
        "        return \"Error\"\n",
        "    if n==0 or n==1:\n",
        "        return 1\n",
        "\n",
        "    resultado=1\n",
        "    for i in range (2, n+1):\n",
        "      resultado *=1\n",
        "\n",
        "    return resultado\n",
        ""
      ],
      "metadata": {
        "id": "ejRe7H-xNPTG"
      },
      "execution_count": 63,
      "outputs": []
    },
    {
      "cell_type": "markdown",
      "source": [
        "¿No tienes idea de como hacerlo? Bien, puedes acceder a una pista!"
      ],
      "metadata": {
        "id": "0Guvf6YhNUtU"
      }
    },
    {
      "cell_type": "code",
      "source": [
        "p3.hint()"
      ],
      "metadata": {
        "id": "tIK_pg5CNXcP",
        "outputId": "536356c3-dac7-42d8-e7cf-c47fc9a30c51",
        "colab": {
          "base_uri": "https://localhost:8080/"
        }
      },
      "execution_count": 19,
      "outputs": [
        {
          "output_type": "stream",
          "name": "stdout",
          "text": [
            "Debes generar una función llamada 'factorial', que reciba una variable int() y despues debes retornar el valor de la multiplicación de n * (n-1) * (n-2) * ... * (1). \n",
            " Por ejemplo: factorial de 3 -> 6 \n",
            "             factorial de 0 -> 1\n"
          ]
        }
      ]
    },
    {
      "cell_type": "markdown",
      "source": [
        "Ahora que terminaste el codigo, probemos si hace lo que debería la función:"
      ],
      "metadata": {
        "id": "InyL5mzANcfo"
      }
    },
    {
      "cell_type": "code",
      "source": [
        "p3.check()"
      ],
      "metadata": {
        "id": "o1o_a5SPNdLg",
        "outputId": "e1244a91-1495-4634-9239-307a22122151",
        "colab": {
          "base_uri": "https://localhost:8080/"
        }
      },
      "execution_count": 64,
      "outputs": [
        {
          "output_type": "stream",
          "name": "stdout",
          "text": [
            "❌ Error en la función factorial.\n"
          ]
        }
      ]
    },
    {
      "cell_type": "markdown",
      "source": [
        "# Problema 4: Escribe una función que retorne los primeros N números de la serie Fibonacci."
      ],
      "metadata": {
        "id": "c8zrROVnOItj"
      }
    },
    {
      "cell_type": "code",
      "source": [
        "def fibonacci(n,sequence={1:0, 2:1}):\n",
        "    if n in sequence:\n",
        "        return sequence[n]\n",
        "    if n <= 0:\n",
        "        return \"Número inválido\"\n",
        "    sequence[n] = fibonacci(n - 1, sequence) + fibonacci(n - 2, sequence)\n",
        "    return sequence[n]\n",
        "#profe no se porque en este y en el de arriba me dice que la función esta mal, pense que tenía que cambiarla a como decía en la pista pero ya la cambié y sigue saliendo error\n",
        "\n",
        "\n",
        "\n"
      ],
      "metadata": {
        "id": "1flgCFQEOItl"
      },
      "execution_count": 99,
      "outputs": []
    },
    {
      "cell_type": "markdown",
      "source": [
        "¿No tienes idea de como hacerlo? Bien, puedes acceder a una pista!"
      ],
      "metadata": {
        "id": "Vs6wr-QROItm"
      }
    },
    {
      "cell_type": "code",
      "source": [
        "p4.hint()"
      ],
      "metadata": {
        "id": "MeMGHh6ROItn",
        "outputId": "d97226a9-4608-40c7-ab88-fb23f56280f9",
        "colab": {
          "base_uri": "https://localhost:8080/"
        }
      },
      "execution_count": 36,
      "outputs": [
        {
          "output_type": "stream",
          "name": "stdout",
          "text": [
            "Debes generar una función llamada 'fibonacci', que retorne los primeros N números de la serie Fibonacci.\n"
          ]
        }
      ]
    },
    {
      "cell_type": "markdown",
      "source": [
        "Ahora que terminaste el codigo, probemos si hace lo que debería la función:"
      ],
      "metadata": {
        "id": "32NKudqcOIto"
      }
    },
    {
      "cell_type": "code",
      "source": [
        "p4.check()"
      ],
      "metadata": {
        "id": "9MuwAHDGOItp",
        "outputId": "fd3e8aa4-af98-4bbc-c9cc-5db04bc68345",
        "colab": {
          "base_uri": "https://localhost:8080/"
        }
      },
      "execution_count": 100,
      "outputs": [
        {
          "output_type": "stream",
          "name": "stdout",
          "text": [
            "❌ Error en la función fibonacci.\n"
          ]
        }
      ]
    },
    {
      "cell_type": "markdown",
      "source": [
        "# Problema 5: Escribe una función que determine si una palabra es un palíndromo."
      ],
      "metadata": {
        "id": "sHyTLRMQOJzc"
      }
    },
    {
      "cell_type": "code",
      "source": [
        "def es_palindromo(palabra):\n",
        "    palabra = palabra.lower()\n",
        "    palabra = palabra.replace(\" \",\"\")\n",
        "    return palabra == palabra[::-1]\n",
        "palabra= input(\"Introduce una palabra:\")\n",
        "if es_palindromo(palabra):\n",
        "\n",
        "    print(f'\"{palabra}\" es un palíndromo.')\n",
        "else:\n",
        "    print(f'\"{palabra}\" no es un palíndromo.')\n"
      ],
      "metadata": {
        "id": "66LYAyycOJzd",
        "outputId": "25ed7381-0f71-4ce6-e27c-82b32c9eec26",
        "colab": {
          "base_uri": "https://localhost:8080/"
        }
      },
      "execution_count": 55,
      "outputs": [
        {
          "output_type": "stream",
          "name": "stdout",
          "text": [
            "Introduce una palabra:soypedra\n",
            "\"soypedra\" no es un palíndromo.\n"
          ]
        }
      ]
    },
    {
      "cell_type": "markdown",
      "source": [
        "¿No tienes idea de como hacerlo? Bien, puedes acceder a una pista!"
      ],
      "metadata": {
        "id": "0Ux8tas1OJze"
      }
    },
    {
      "cell_type": "code",
      "source": [
        "p5.hint()"
      ],
      "metadata": {
        "id": "Lzorn1GpOJzf"
      },
      "execution_count": null,
      "outputs": []
    },
    {
      "cell_type": "markdown",
      "source": [
        "Ahora que terminaste el codigo, probemos si hace lo que debería la función:"
      ],
      "metadata": {
        "id": "NS5U37yCOJzg"
      }
    },
    {
      "cell_type": "code",
      "source": [
        "p5.check()"
      ],
      "metadata": {
        "id": "eOw9WwqUOJzh",
        "outputId": "c77ff941-24f3-4641-dd72-0df8c0a46e80",
        "colab": {
          "base_uri": "https://localhost:8080/"
        }
      },
      "execution_count": 56,
      "outputs": [
        {
          "output_type": "stream",
          "name": "stdout",
          "text": [
            "✅ Función correcta.\n"
          ]
        }
      ]
    },
    {
      "cell_type": "markdown",
      "source": [
        "# Problema 6: Escribe una función que calcule la suma de los dígitos de un número entero positivo."
      ],
      "metadata": {
        "id": "2uUaqY1NOLLD"
      }
    },
    {
      "cell_type": "code",
      "source": [
        "def suma_digitos(numero):\n",
        "  if numero < 0:\n",
        "    return\"numero inválido\"\n",
        "  suma=0\n",
        "  while numero> 0:\n",
        "    suma += numero %10\n",
        "    numero //=10\n",
        "  return suma\n"
      ],
      "metadata": {
        "id": "I40x-CI2OLLE"
      },
      "execution_count": 88,
      "outputs": []
    },
    {
      "cell_type": "markdown",
      "source": [
        "¿No tienes idea de como hacerlo? Bien, puedes acceder a una pista!"
      ],
      "metadata": {
        "id": "mplNtbBJOLLF"
      }
    },
    {
      "cell_type": "code",
      "source": [
        "p6.hint()"
      ],
      "metadata": {
        "id": "PBLvzw7tOLLG",
        "outputId": "1f2f15dd-ade9-4c38-f418-55bc24629ed6",
        "colab": {
          "base_uri": "https://localhost:8080/"
        }
      },
      "execution_count": 20,
      "outputs": [
        {
          "output_type": "stream",
          "name": "stdout",
          "text": [
            "Debes generar una función llamada 'suma_digitos', que sume todos los dígitos de un número entero positivo.\n"
          ]
        }
      ]
    },
    {
      "cell_type": "markdown",
      "source": [
        "Ahora que terminaste el codigo, probemos si hace lo que debería la función:"
      ],
      "metadata": {
        "id": "FysldG9MOLLL"
      }
    },
    {
      "cell_type": "code",
      "source": [
        "p6.check()"
      ],
      "metadata": {
        "id": "x_pwtGXzOLLM",
        "outputId": "0017ca0c-450d-424c-8794-fafa8955a63d",
        "colab": {
          "base_uri": "https://localhost:8080/"
        }
      },
      "execution_count": 89,
      "outputs": [
        {
          "output_type": "stream",
          "name": "stdout",
          "text": [
            "✅ Función correcta.\n"
          ]
        }
      ]
    },
    {
      "cell_type": "markdown",
      "source": [
        "# Muy bien, a este punto, debemos generar el QR para subir al examen!\n",
        "Ejecuta el siguiente comando para generar y descargar el QR"
      ],
      "metadata": {
        "id": "U4MnxOStQzLw"
      }
    },
    {
      "cell_type": "code",
      "source": [
        "QR_Generator()"
      ],
      "metadata": {
        "id": "TBDxEq42RWwm",
        "outputId": "d74d0a70-fbd7-4452-c632-0ddda3564ce4",
        "colab": {
          "base_uri": "https://localhost:8080/",
          "height": 764
        }
      },
      "execution_count": 98,
      "outputs": [
        {
          "output_type": "stream",
          "name": "stdout",
          "text": [
            "Código QR generado y guardado como qr_resultados.png\n"
          ]
        },
        {
          "output_type": "display_data",
          "data": {
            "text/plain": [
              "<IPython.core.display.Javascript object>"
            ],
            "application/javascript": [
              "\n",
              "    async function download(id, filename, size) {\n",
              "      if (!google.colab.kernel.accessAllowed) {\n",
              "        return;\n",
              "      }\n",
              "      const div = document.createElement('div');\n",
              "      const label = document.createElement('label');\n",
              "      label.textContent = `Downloading \"${filename}\": `;\n",
              "      div.appendChild(label);\n",
              "      const progress = document.createElement('progress');\n",
              "      progress.max = size;\n",
              "      div.appendChild(progress);\n",
              "      document.body.appendChild(div);\n",
              "\n",
              "      const buffers = [];\n",
              "      let downloaded = 0;\n",
              "\n",
              "      const channel = await google.colab.kernel.comms.open(id);\n",
              "      // Send a message to notify the kernel that we're ready.\n",
              "      channel.send({})\n",
              "\n",
              "      for await (const message of channel.messages) {\n",
              "        // Send a message to notify the kernel that we're ready.\n",
              "        channel.send({})\n",
              "        if (message.buffers) {\n",
              "          for (const buffer of message.buffers) {\n",
              "            buffers.push(buffer);\n",
              "            downloaded += buffer.byteLength;\n",
              "            progress.value = downloaded;\n",
              "          }\n",
              "        }\n",
              "      }\n",
              "      const blob = new Blob(buffers, {type: 'application/binary'});\n",
              "      const a = document.createElement('a');\n",
              "      a.href = window.URL.createObjectURL(blob);\n",
              "      a.download = filename;\n",
              "      div.appendChild(a);\n",
              "      a.click();\n",
              "      div.remove();\n",
              "    }\n",
              "  "
            ]
          },
          "metadata": {}
        },
        {
          "output_type": "display_data",
          "data": {
            "text/plain": [
              "<IPython.core.display.Javascript object>"
            ],
            "application/javascript": [
              "download(\"download_72c941dc-cea5-4d2d-9a2b-fe6e871fb0a4\", \"qr_resultados.png\", 2155)"
            ]
          },
          "metadata": {}
        },
        {
          "output_type": "display_data",
          "data": {
            "text/plain": [
              "<PIL.PngImagePlugin.PngImageFile image mode=1 size=730x730>"
            ],
            "image/png": "[encoded data removed]",
            "image/jpeg": "[encoded data removed]"
          },
          "metadata": {}
        }
      ]
    }
  ]
}